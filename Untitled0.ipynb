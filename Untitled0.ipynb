{
  "nbformat": 4,
  "nbformat_minor": 0,
  "metadata": {
    "colab": {
      "provenance": [],
      "authorship_tag": "ABX9TyNYrsbFmSWvf2tCJENXiqRG",
      "include_colab_link": true
    },
    "kernelspec": {
      "name": "python3",
      "display_name": "Python 3"
    },
    "language_info": {
      "name": "python"
    }
  },
  "cells": [
    {
      "cell_type": "markdown",
      "metadata": {
        "id": "view-in-github",
        "colab_type": "text"
      },
      "source": [
        "<a href=\"https://colab.research.google.com/github/ahmet-kemal-ates/data-driven-ESS-model/blob/main/Untitled0.ipynb\" target=\"_parent\"><img src=\"https://colab.research.google.com/assets/colab-badge.svg\" alt=\"Open In Colab\"/></a>"
      ]
    },
    {
      "cell_type": "code",
      "execution_count": null,
      "metadata": {
        "id": "S3uYoSEf8h6z"
      },
      "outputs": [],
      "source": [
        "!pip install numpy pandas scikit-learn keras tensorflow sphinx"
      ]
    },
    {
      "cell_type": "code",
      "source": [
        "!git clone https://github.com/ahmet-kemal-ates/data-driven-ESS-model\n"
      ],
      "metadata": {
        "colab": {
          "base_uri": "https://localhost:8080/"
        },
        "id": "GP1nAJBd-uLW",
        "outputId": "d13a940f-8c32-48e2-ed68-d183e1c09288"
      },
      "execution_count": 7,
      "outputs": [
        {
          "output_type": "stream",
          "name": "stdout",
          "text": [
            "Cloning into 'data-driven-ESS-model'...\n",
            "remote: Enumerating objects: 3, done.\u001b[K\n",
            "remote: Counting objects: 100% (3/3), done.\u001b[K\n",
            "remote: Compressing objects: 100% (2/2), done.\u001b[K\n",
            "remote: Total 3 (delta 0), reused 0 (delta 0), pack-reused 0 (from 0)\u001b[K\n",
            "Receiving objects: 100% (3/3), done.\n"
          ]
        }
      ]
    },
    {
      "cell_type": "code",
      "source": [
        "%cd /content/data-driven-ESS-model\n",
        "!git pull origin main\n"
      ],
      "metadata": {
        "colab": {
          "base_uri": "https://localhost:8080/"
        },
        "id": "Q23JdfI3_7YO",
        "outputId": "3ccf0d7c-a054-4221-af3c-ef61b955bd8c"
      },
      "execution_count": 29,
      "outputs": [
        {
          "output_type": "stream",
          "name": "stdout",
          "text": [
            "/content/data-driven-ESS-model\n",
            "From https://github.com/ahmet-kemal-ates/data-driven-ESS-model\n",
            " * branch            main       -> FETCH_HEAD\n",
            "Already up to date.\n"
          ]
        }
      ]
    },
    {
      "cell_type": "code",
      "source": [
        "!git config --global user.email \"ates-2051264@studenti.uniroma1.it\"\n",
        "!git config --global user.name \"ahmet-kemal-ates\""
      ],
      "metadata": {
        "id": "iZWxIPHRAEeI"
      },
      "execution_count": 9,
      "outputs": []
    },
    {
      "cell_type": "code",
      "source": [
        "!git add .\n",
        "!git commit -m \"test runs\"\n"
      ],
      "metadata": {
        "colab": {
          "base_uri": "https://localhost:8080/"
        },
        "id": "6-qSHR5lAX51",
        "outputId": "8fd7e721-65b5-4678-a81b-8696abe7ae94"
      },
      "execution_count": 10,
      "outputs": [
        {
          "output_type": "stream",
          "name": "stdout",
          "text": [
            "On branch main\n",
            "Your branch is up to date with 'origin/main'.\n",
            "\n",
            "nothing to commit, working tree clean\n"
          ]
        }
      ]
    },
    {
      "cell_type": "code",
      "source": [
        "!pip install sphinx\n",
        "!sphinx-build --version\n",
        "!sphinx-quickstart docs\n",
        "\n"
      ],
      "metadata": {
        "colab": {
          "base_uri": "https://localhost:8080/"
        },
        "id": "bzOHUqY7I03C",
        "outputId": "7d714197-e047-4af7-eb73-2f7e5f7224a5"
      },
      "execution_count": 41,
      "outputs": [
        {
          "output_type": "stream",
          "name": "stdout",
          "text": [
            "Requirement already satisfied: sphinx in /usr/local/lib/python3.10/dist-packages (5.0.2)\n",
            "Requirement already satisfied: sphinxcontrib-applehelp in /usr/local/lib/python3.10/dist-packages (from sphinx) (2.0.0)\n",
            "Requirement already satisfied: sphinxcontrib-devhelp in /usr/local/lib/python3.10/dist-packages (from sphinx) (2.0.0)\n",
            "Requirement already satisfied: sphinxcontrib-jsmath in /usr/local/lib/python3.10/dist-packages (from sphinx) (1.0.1)\n",
            "Requirement already satisfied: sphinxcontrib-htmlhelp>=2.0.0 in /usr/local/lib/python3.10/dist-packages (from sphinx) (2.1.0)\n",
            "Requirement already satisfied: sphinxcontrib-serializinghtml>=1.1.5 in /usr/local/lib/python3.10/dist-packages (from sphinx) (2.0.0)\n",
            "Requirement already satisfied: sphinxcontrib-qthelp in /usr/local/lib/python3.10/dist-packages (from sphinx) (2.0.0)\n",
            "Requirement already satisfied: Jinja2>=2.3 in /usr/local/lib/python3.10/dist-packages (from sphinx) (3.1.4)\n",
            "Requirement already satisfied: Pygments>=2.0 in /usr/local/lib/python3.10/dist-packages (from sphinx) (2.18.0)\n",
            "Requirement already satisfied: docutils<0.19,>=0.14 in /usr/local/lib/python3.10/dist-packages (from sphinx) (0.18.1)\n",
            "Requirement already satisfied: snowballstemmer>=1.1 in /usr/local/lib/python3.10/dist-packages (from sphinx) (2.2.0)\n",
            "Requirement already satisfied: babel>=1.3 in /usr/local/lib/python3.10/dist-packages (from sphinx) (2.16.0)\n",
            "Requirement already satisfied: alabaster<0.8,>=0.7 in /usr/local/lib/python3.10/dist-packages (from sphinx) (0.7.16)\n",
            "Requirement already satisfied: imagesize in /usr/local/lib/python3.10/dist-packages (from sphinx) (1.4.1)\n",
            "Requirement already satisfied: requests>=2.5.0 in /usr/local/lib/python3.10/dist-packages (from sphinx) (2.32.3)\n",
            "Requirement already satisfied: packaging in /usr/local/lib/python3.10/dist-packages (from sphinx) (24.1)\n",
            "Requirement already satisfied: MarkupSafe>=2.0 in /usr/local/lib/python3.10/dist-packages (from Jinja2>=2.3->sphinx) (2.1.5)\n",
            "Requirement already satisfied: charset-normalizer<4,>=2 in /usr/local/lib/python3.10/dist-packages (from requests>=2.5.0->sphinx) (3.3.2)\n",
            "Requirement already satisfied: idna<4,>=2.5 in /usr/local/lib/python3.10/dist-packages (from requests>=2.5.0->sphinx) (3.10)\n",
            "Requirement already satisfied: urllib3<3,>=1.21.1 in /usr/local/lib/python3.10/dist-packages (from requests>=2.5.0->sphinx) (2.0.7)\n",
            "Requirement already satisfied: certifi>=2017.4.17 in /usr/local/lib/python3.10/dist-packages (from requests>=2.5.0->sphinx) (2024.8.30)\n",
            "sphinx-build 5.0.2\n",
            "\u001b[01mWelcome to the Sphinx 5.0.2 quickstart utility.\u001b[39;49;00m\n",
            "\n",
            "Please enter values for the following settings (just press Enter to\n",
            "accept a default value, if one is given in brackets).\n",
            "\n",
            "\u001b[01mSelected root path: docs\u001b[39;49;00m\n",
            "\n",
            "You have two options for placing the build directory for Sphinx output.\n",
            "Either, you use a directory \"_build\" within the root path, or you separate\n",
            "\"source\" and \"build\" directories within the root path.\n",
            "\u001b[35m> Separate source and build directories (y/n) [n]: \u001b[39;49;00my\n",
            "\n",
            "The project name will occur in several places in the built documentation.\n",
            "\u001b[35m> Project name: \u001b[39;49;00mdata-driven-ESS-model\n",
            "\u001b[35m> Author name(s): \u001b[39;49;00mahmet-kemal-ates\n",
            "\u001b[35m> Project release []: \u001b[39;49;00m19/09/2024\n",
            "\n",
            "If the documents are to be written in a language other than English,\n",
            "you can select a language here by its language code. Sphinx will then\n",
            "translate text that it generates into that language.\n",
            "\n",
            "For a list of supported codes, see\n",
            "https://www.sphinx-doc.org/en/master/usage/configuration.html#confval-language.\n",
            "\u001b[35m> Project language [en]: \u001b[39;49;00men\n",
            "\n",
            "Creating file /content/data-driven-ESS-model/docs/source/conf.py.\n",
            "Creating file /content/data-driven-ESS-model/docs/source/index.rst.\n",
            "Creating file /content/data-driven-ESS-model/docs/Makefile.\n",
            "Creating file /content/data-driven-ESS-model/docs/make.bat.\n",
            "\n",
            "\u001b[01mFinished: An initial directory structure has been created.\u001b[39;49;00m\n",
            "\n",
            "You should now populate your master file /content/data-driven-ESS-model/docs/source/index.rst and create other documentation\n",
            "source files. Use the Makefile to build the docs, like so:\n",
            "   make builder\n",
            "where \"builder\" is one of the supported builders, e.g. html, latex or linkcheck.\n",
            "\n"
          ]
        }
      ]
    },
    {
      "cell_type": "code",
      "source": [],
      "metadata": {
        "id": "An7icDWLKluF"
      },
      "execution_count": null,
      "outputs": []
    }
  ]
}